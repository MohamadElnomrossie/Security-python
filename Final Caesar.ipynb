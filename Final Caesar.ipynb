{
 "cells": [
  {
   "cell_type": "code",
   "execution_count": 206,
   "metadata": {},
   "outputs": [],
   "source": [
    "import string #import string module to load the alphabets\n",
    "import collections #to change the positions of the letters"
   ]
  },
  {
   "cell_type": "code",
   "execution_count": 207,
   "metadata": {},
   "outputs": [],
   "source": [
    "'''This function removes all the punctuation marks and line breaks '''\n",
    "def preprocess_text(text):\n",
    "        g='\\n'+string.punctuation #load the punctuation marks\n",
    "        for j in g: # a loop to remove all the punctuation marks from the string to be encrypted \n",
    "                string_to_encrypt=text.replace(j,\"\") # to remove the puncuation marks\n",
    "        return string_to_encrypt"
   ]
  },
  {
   "cell_type": "code",
   "execution_count": 208,
   "metadata": {},
   "outputs": [],
   "source": [
    "'''Encryption function replaces every letter with its equivalent after shifting the index of the key'''\n",
    "def Encryption(source_string, Key):\n",
    "    upper= collections.deque(string.ascii_uppercase) #to generate the English alphabets\n",
    "    string_to_encrypt=preprocess_text(source_string)# preprocess the text to be encrypted\n",
    "    upper.rotate(-Key) #To change the key of each letter of the alphabets\n",
    "    upper=''.join(list(upper)) #to remove the empty spaces\n",
    "    uppercase=string_to_encrypt.upper()#to turn all the letters into the uppercase\n",
    "    encrypted_text=uppercase.translate(str.maketrans(string.ascii_uppercase,upper)) #to replace each letter of the original text with its equivalent\n",
    "    return encrypted_text"
   ]
  },
  {
   "cell_type": "code",
   "execution_count": 209,
   "metadata": {},
   "outputs": [],
   "source": [
    "'''This function gets the letter with the highest frequency then calculates the difference,the original encryption key,\n",
    "between its index and the index of letter 'E' which has the highest frequency. '''\n",
    "def Decryption(cipher_text):\n",
    "    upper= collections.deque(string.ascii_uppercase) #load all the alphabetic letters into a list\n",
    "    reviewed_text=preprocess_text(cipher_text) # to remove the specila characters and punctuation from the ciphered txt\n",
    "    letter_frequency={} # create an empty dict to contain the letter and its frequecy\n",
    "    for letter in upper: # a loop to load all the alphabets into the letter frequenct dict with 0 value for each key\n",
    "        letter_frequency[letter]=0\n",
    "    for letter in reviewed_text: #a loop to increment the value whenever it is found in the string\n",
    "        if letter.upper()in upper:\n",
    "            letter_frequency[letter.upper()]+=1\n",
    "            \n",
    "    inverse = [(value, key) for key, value in letter_frequency.items()] # To get the values stored in each key\n",
    "\n",
    "    encryption_key=upper.index('E')-upper.index(max(inverse)[1])\n",
    "    '''gets the encryption key by subtracting the index of the letter with \n",
    "    the heighest frequency from the index of letter \"E\"'''\n",
    "    Decrypted_text=Encryption(cipher_text,encryption_key)\n",
    "    print(\"The Encryption key is {}\".format(str(-encryption_key))) # outputs the encryption key used\n",
    "    return Decrypted_text,-encryption_key"
   ]
  },
  {
   "cell_type": "code",
   "execution_count": 210,
   "metadata": {},
   "outputs": [],
   "source": [
    "def open_file(path):\n",
    "    with open(path,'r') as f:\n",
    "        c=f.read()\n",
    "    return c"
   ]
  }
 ],
 "metadata": {
  "kernelspec": {
   "display_name": "Python 3",
   "language": "python",
   "name": "python3"
  },
  "language_info": {
   "codemirror_mode": {
    "name": "ipython",
    "version": 3
   },
   "file_extension": ".py",
   "mimetype": "text/x-python",
   "name": "python",
   "nbconvert_exporter": "python",
   "pygments_lexer": "ipython3",
   "version": "3.7.4"
  }
 },
 "nbformat": 4,
 "nbformat_minor": 4
}
